{
 "cells": [
  {
   "cell_type": "code",
   "execution_count": 5,
   "id": "41779088",
   "metadata": {},
   "outputs": [
    {
     "name": "stdout",
     "output_type": "stream",
     "text": [
      "Type the organic molecule as SMILES: CCCCCCCC\n",
      "The name of the organic compound is Octane\n"
     ]
    },
    {
     "data": {
      "image/png": "[encoded data removed]",
      "text/plain": [
       "<rdkit.Chem.rdchem.Mol at 0x7f268c208170>"
      ]
     },
     "execution_count": 5,
     "metadata": {},
     "output_type": "execute_result"
    }
   ],
   "source": [
    "from rdkit import Chem\n",
    "\n",
    "molecule = str(input(\"Type the organic molecule as SMILES: \"))\n",
    "\n",
    "nCarbons = molecule.count('C')\n",
    "\n",
    "if nCarbons == 1:\n",
    "    prefix = 'Met'\n",
    "elif nCarbons == 2:\n",
    "    prefix = 'Et'\n",
    "elif nCarbons == 3:\n",
    "    prefix = 'Prop'\n",
    "elif nCarbons == 4:\n",
    "    prefix = 'But'\n",
    "elif nCarbons == 5:\n",
    "    prefix = 'Pent'\n",
    "elif nCarbons == 6:\n",
    "    prefix = 'Hex'\n",
    "elif nCarbons == 7:\n",
    "    prefix = 'Hept'\n",
    "elif nCarbons == 8:\n",
    "    prefix = 'Oct'\n",
    "    \n",
    "dbond = molecule.count('=')\n",
    "\n",
    "if '(C=O)OH' in molecule:\n",
    "    sufix = 'oic acid'\n",
    "    dbond = dbond - 1\n",
    "elif '(C=O)H' in molecule:\n",
    "    sufix = 'al'\n",
    "    dbond = dbond - 1\n",
    "elif 'OH' in molecule:\n",
    "    sufix = 'ol'\n",
    "else:\n",
    "    sufix = 'e'\n",
    "    \n",
    "    \n",
    "if dbond == 0:\n",
    "    infix = 'an'\n",
    "elif dbond == 1:\n",
    "    infix = 'en'\n",
    "elif dbond == 2:\n",
    "    infix = 'adien'\n",
    "    \n",
    "print(f\"The name of the organic compound is {prefix + infix + sufix}\")\n",
    "m = Chem.MolFromSmiles(molecule)\n",
    "m"
   ]
  },
  {
   "cell_type": "code",
   "execution_count": null,
   "id": "2a9e2d5e",
   "metadata": {},
   "outputs": [],
   "source": []
  },
  {
   "cell_type": "code",
   "execution_count": null,
   "id": "9597ada2",
   "metadata": {},
   "outputs": [],
   "source": []
  },
  {
   "cell_type": "code",
   "execution_count": null,
   "id": "a7603bbe",
   "metadata": {},
   "outputs": [],
   "source": []
  }
 ],
 "metadata": {
  "kernelspec": {
   "display_name": "Python 3 (ipykernel)",
   "language": "python",
   "name": "python3"
  },
  "language_info": {
   "codemirror_mode": {
    "name": "ipython",
    "version": 3
   },
   "file_extension": ".py",
   "mimetype": "text/x-python",
   "name": "python",
   "nbconvert_exporter": "python",
   "pygments_lexer": "ipython3",
   "version": "3.7.13"
  }
 },
 "nbformat": 4,
 "nbformat_minor": 5
}
